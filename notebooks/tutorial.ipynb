{
 "cells": [
  {
   "cell_type": "markdown",
   "metadata": {},
   "source": [
    "# Introduction to Darwin\n",
    "\n",
    "This notebook is a quick walkthrough, intended to illustrate the key concepts. Some of the details, like configuring populatins, domains and experiments, are documented somewhere else.\n",
    "\n",
    "We'll start with importing the `darwin` module:"
   ]
  },
  {
   "cell_type": "code",
   "execution_count": 2,
   "metadata": {},
   "outputs": [],
   "source": [
    "import darwin"
   ]
  },
  {
   "cell_type": "markdown",
   "metadata": {},
   "source": [
    "### Opening or creating a Darwin universe\n",
    "\n",
    "In the Darwin Framework, all the experiment variations and runs are recorded in a universe database, so one of the first things we need to do is open or create a darwin.Universe instance:"
   ]
  },
  {
   "cell_type": "code",
   "execution_count": 3,
   "metadata": {},
   "outputs": [],
   "source": [
    "universe = darwin.open_universe('/tmp/tutorial.darwin')"
   ]
  },
  {
   "cell_type": "markdown",
   "metadata": {},
   "source": [
    "### Selecting and configuring a Population\n",
    "\n",
    "In order to setup an experiment, we need a _Population_, which abstracts a particular type of Evolutionary Algoritm, ex. Conventional Neuroevolution (CNE) or NEAT. A population is a fixed length collection of genotypes (solution recipes)\n",
    "\n",
    "Here we're instantiating a 'neat' population type and set its size (on a reasonabily fast multi-core machine we can set this much higher. `5000` is the default populatin size, but we'll be using a much more modest value here to make this notebook usable in small cloud containers)"
   ]
  },
  {
   "cell_type": "code",
   "execution_count": 5,
   "metadata": {},
   "outputs": [],
   "source": [
    "population = darwin.Population('neat')\n",
    "population.size = 250"
   ]
  },
  {
   "cell_type": "markdown",
   "metadata": {},
   "source": [
    "`available_populations()` returns a list with the names of all available population types:"
   ]
  },
  {
   "cell_type": "code",
   "execution_count": 6,
   "metadata": {},
   "outputs": [
    {
     "data": {
      "text/plain": [
       "['cgp',\n",
       " 'cne.feedforward',\n",
       " 'cne.full_rnn',\n",
       " 'cne.lstm',\n",
       " 'cne.lstm_lite',\n",
       " 'cne.rnn',\n",
       " 'neat',\n",
       " 'test_population']"
      ]
     },
     "execution_count": 6,
     "metadata": {},
     "output_type": "execute_result"
    }
   ],
   "source": [
    "darwin.available_populations()"
   ]
  },
  {
   "cell_type": "markdown",
   "metadata": {},
   "source": [
    "### Selecting and configuring a Domain\n",
    "\n",
    "Domains abstract the problem space and provides the details on how to evaluate and assign fitness values to each genotype in a Population:"
   ]
  },
  {
   "cell_type": "code",
   "execution_count": 7,
   "metadata": {},
   "outputs": [],
   "source": [
    "domain = darwin.Domain('unicycle')"
   ]
  },
  {
   "cell_type": "markdown",
   "metadata": {},
   "source": [
    "The set of available domains can be discovered using `avaiable_domains()`:"
   ]
  },
  {
   "cell_type": "code",
   "execution_count": 8,
   "metadata": {},
   "outputs": [
    {
     "data": {
      "text/plain": [
       "['ballistics',\n",
       " 'car_track',\n",
       " 'cart_pole',\n",
       " 'conquest',\n",
       " 'double_cart_pole',\n",
       " 'drone_follow',\n",
       " 'drone_track',\n",
       " 'drone_vision',\n",
       " 'find_max_value',\n",
       " 'harvester',\n",
       " 'pong',\n",
       " 'test_domain',\n",
       " 'tic_tac_toe',\n",
       " 'unicycle']"
      ]
     },
     "execution_count": 8,
     "metadata": {},
     "output_type": "execute_result"
    }
   ],
   "source": [
    "darwin.available_domains()"
   ]
  },
  {
   "cell_type": "markdown",
   "metadata": {},
   "source": [
    "### Creating a new Experiment\n",
    "\n",
    "Domains and Populations don't know anything about each other, which is how Darwin Framework can run NxM combinations with only N Domains + M Populations.\n",
    "\n",
    "The Experiment object encapsulates a particular Domain, Population combination:"
   ]
  },
  {
   "cell_type": "code",
   "execution_count": 9,
   "metadata": {},
   "outputs": [],
   "source": [
    "experiment = universe.new_experiment(domain, population)"
   ]
  },
  {
   "cell_type": "markdown",
   "metadata": {},
   "source": [
    "### Evolve!\n",
    "\n",
    "The whole point of setting up the _Population_ and the _Domain_ and putting them together as an _Experiment_, is to search for solutions (models) using an _Evolutionary Algorithm_.\n",
    "\n",
    "The general structure of an evolution loop is simple enough:\n",
    "\n",
    "1. Initialize the population with random genotypes. This step also marks the experiment as \"active\" - which means that it starts being recorded to the universe database. The configuration values can't be changed anymore (this include Population and Domain configurations)\n",
    "\n",
    "2. Evaluate the population, using the Domain instance to assign fitness values to every genotype in the population. `evaluate_population()` returns a `darwin.GenerationSummary` object.\n",
    "\n",
    "3. Create a new generation, starting from the current population with the fitness values set at step 2 (`evaluate_population()` must be called before `create_next_generation()`)"
   ]
  },
  {
   "cell_type": "code",
   "execution_count": 10,
   "metadata": {},
   "outputs": [
    {
     "name": "stdout",
     "output_type": "stream",
     "text": [
      "Generation 0 ...\n",
      "  best fitness=0.127\n",
      "  median fitness=0.014\n",
      "  worst fitness=0.013\n",
      "\n",
      "Generation 1 ...\n",
      "  best fitness=0.230\n",
      "  median fitness=0.049\n",
      "  worst fitness=0.013\n",
      "\n",
      "Generation 2 ...\n",
      "  best fitness=0.488\n",
      "  median fitness=0.061\n",
      "  worst fitness=0.013\n",
      "\n",
      "Generation 3 ...\n",
      "  best fitness=1.235\n",
      "  median fitness=0.077\n",
      "  worst fitness=0.013\n",
      "\n",
      "Generation 4 ...\n",
      "  best fitness=1.327\n",
      "  median fitness=0.102\n",
      "  worst fitness=0.013\n",
      "\n"
     ]
    }
   ],
   "source": [
    "experiment.initialize_population() # (1)\n",
    "for generation in range(5):\n",
    "    print(f'Generation {generation} ...')\n",
    "\n",
    "    summary = experiment.evaluate_population() # (2)\n",
    "    print(f'  best fitness={summary.best_fitness:.3f}')\n",
    "    print(f'  median fitness={summary.median_fitness:.3f}')\n",
    "    print(f'  worst fitness={summary.worst_fitness:.3f}')\n",
    "    print()\n",
    "\n",
    "    experiment.create_next_generation() # (3)"
   ]
  }
 ],
 "metadata": {
  "kernelspec": {
   "display_name": "Python 3",
   "language": "python",
   "name": "python3"
  },
  "language_info": {
   "codemirror_mode": {
    "name": "ipython",
    "version": 3
   },
   "file_extension": ".py",
   "mimetype": "text/x-python",
   "name": "python",
   "nbconvert_exporter": "python",
   "pygments_lexer": "ipython3",
   "version": "3.8.5"
  }
 },
 "nbformat": 4,
 "nbformat_minor": 4
}
