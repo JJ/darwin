{
 "cells": [
  {
   "cell_type": "markdown",
   "metadata": {},
   "source": [
    "## Property Sets\n",
    "\n",
    "`darwin.PropertySet` is the key abstraction for manipulating configuration values for population, domain, experiment and more.\n",
    "\n",
    "It's a custom type, somewhat similar to a `dict` or a `json` object (but with additional functionality, as demonstrated below)"
   ]
  },
  {
   "cell_type": "code",
   "execution_count": null,
   "metadata": {},
   "outputs": [],
   "source": [
    "import darwin"
   ]
  },
  {
   "cell_type": "code",
   "execution_count": null,
   "metadata": {},
   "outputs": [],
   "source": [
    "# opens (or creates) a Darwin universe database\n",
    "universe = darwin.open_universe('/tmp/demo.darwin')\n",
    "print(universe)"
   ]
  },
  {
   "cell_type": "markdown",
   "metadata": {},
   "source": [
    "## darwin.Population.config"
   ]
  },
  {
   "cell_type": "code",
   "execution_count": 3,
   "metadata": {},
   "outputs": [
    {
     "name": "stdout",
     "output_type": "stream",
     "text": [
      "{\n",
      "  'activation_function': 'neat'  # Main activation function. Valid values: ['identity', 'logistic', 'logistic_ex', 'neat', 're_exp', 'relu', 'tanh']\n",
      "  'gate_activation_function': 'logistic'  # Activation function used for cell gates (ex. LSTM). Valid values: ['identity', 'logistic', 'logistic_ex', 'neat', 're_exp', 'relu', 'tanh']\n",
      "  'implicit_bias_links': 'true'  # Use bias nodes, automatically feeding into all non-input nodes. Valid values: ['false', 'true']\n",
      "  'use_lstm_nodes': 'false'  # Use LSTM nodes instead of basic nodes. Valid values: ['false', 'true']\n",
      "  'use_classic_selection': 'false'  # Selection strategy. Valid values: ['false', 'true']\n",
      "  'elite_percentage': '0.1'  # Elite percentage\n",
      "  'elite_min_fitness': '0'  # Elite min fitness\n",
      "  'elite_mutation_chance': '0'  # Elite mutation chance\n",
      "  'recurrent_output_nodes': 'false'  # Create recurrent output nodes (recurrent link to themselves). Valid values: ['false', 'true']\n",
      "  'recurrent_hidden_nodes': 'false'  # Create recurrent hidden nodes (recurrent link to themselves). Valid values: ['false', 'true']\n",
      "  'preserve_connectivity': 'false'  # Make sure the genotypes produce fully connected networks after crossover. Valid values: ['false', 'true']\n",
      "  'contiguous_species': 'true'  # Contiguous species (NEAT selection strategy). Valid values: ['false', 'true']\n",
      "  'larva_age': '5'  # Genotypes under larva age (in generations) are protected from replacement\n",
      "  'old_age': '25'  # Age limit until genotypes are protected from replacement\n",
      "  'min_viable_fitness': '10'  # Minimum fitness value to be a candidate for direct mutation\n",
      "  'c1': '1'  # Genotype compatibility C1 coefficient\n",
      "  'c2': '0.7'  # Genotype compatibility C2 coefficient\n",
      "  'c3': '0.1'  # Genotype compatibility C3 coefficient\n",
      "  'compatibility_threshold': '5'  # Species distance threshold\n",
      "  'min_species_size': '20'  # Species with less members than this value will go extinct\n",
      "  'weight_mutation_chance': '0.01'  # Weight mutation chance\n",
      "  'new_link_chance': '0.02'  # New link chance\n",
      "  'new_node_chance': '0.001'  # New node chance\n",
      "  'uniform_parents_distribution': 'false'  # Prefer any (rather than fitter) parents?. Valid values: ['false', 'true']\n",
      "  'normalize_input': 'false'  # Normalize input values. Valid values: ['false', 'true']\n",
      "  'normalize_output': 'false'  # Normalize output values. Valid values: ['false', 'true']\n",
      "}\n",
      "\n"
     ]
    }
   ],
   "source": [
    "# select a population\n",
    "population = darwin.Population('neat')\n",
    "population.size = 250\n",
    "\n",
    "# print the population's configuration\n",
    "print(population.config)"
   ]
  },
  {
   "cell_type": "code",
   "execution_count": 4,
   "metadata": {},
   "outputs": [],
   "source": [
    "# customize population\n",
    "population.config.activation_function = 'relu'\n",
    "population.config.elite_percentage = 0.2\n",
    "population.config.new_node_chance = 0.01"
   ]
  },
  {
   "cell_type": "markdown",
   "metadata": {},
   "source": [
    "## darwin.Domain.config"
   ]
  },
  {
   "cell_type": "code",
   "execution_count": 5,
   "metadata": {},
   "outputs": [
    {
     "name": "stdout",
     "output_type": "stream",
     "text": [
      "{\n",
      "  'gravity': '9.8'  # Gravitational acceleration\n",
      "  'max_distance': '3'  # Maximum distance from the center\n",
      "  'max_angle': '60'  # Maximum angle from vertical\n",
      "  'max_initial_angle': '10'  # Maximum starting angle from vertical\n",
      "  'pole_length': '1.5'  # Pole length\n",
      "  'pole_density': '1'  # Pole density\n",
      "  'wheel_radius': '0.2'  # Wheel size (radius)\n",
      "  'wheel_density': '1'  # Wheel density\n",
      "  'wheel_friction': '10'  # Wheel friction\n",
      "  'max_torque': '1'  # Maximum torque which can be applied to the wheel\n",
      "  'input_pole_angle': 'true'  # Use the pole angle as input. Valid values: ['false', 'true']\n",
      "  'input_angular_velocity': 'true'  # Use the angular velocity as input. Valid values: ['false', 'true']\n",
      "  'input_wheel_distance': 'true'  # Use the wheel distance as input. Valid values: ['false', 'true']\n",
      "  'input_wheel_velocity': 'true'  # Use the wheel linear velocity as input. Valid values: ['false', 'true']\n",
      "  'input_distance_from_target': 'true'  # Distance from target position. Valid values: ['false', 'true']\n",
      "  'test_worlds': '5'  # Number of test worlds per generation\n",
      "  'max_steps': '1000'  # Maximum number of steps per episode\n",
      "  'discrete_controls': 'false'  # Force the actuator force to fixed +/-discrete_force_magnitude. Valid values: ['false', 'true']\n",
      "  'discrete_torque_magnitude': '0.5'  # The fixed force magnitude used if discrete_controls is true\n",
      "}\n",
      "\n"
     ]
    }
   ],
   "source": [
    "# select a domain\n",
    "domain = darwin.Domain('unicycle')\n",
    "\n",
    "# print the domain's configuration\n",
    "print(domain.config)"
   ]
  },
  {
   "cell_type": "code",
   "execution_count": 6,
   "metadata": {},
   "outputs": [],
   "source": [
    "# customize domain\n",
    "domain.config.pole_length = 2.0\n",
    "domain.config.test_worlds = 3\n",
    "domain.config.max_torque = 1.5"
   ]
  },
  {
   "cell_type": "markdown",
   "metadata": {},
   "source": [
    "## darwin.Experiment.config"
   ]
  },
  {
   "cell_type": "code",
   "execution_count": 7,
   "metadata": {},
   "outputs": [
    {
     "name": "stdout",
     "output_type": "stream",
     "text": [
      "{\n",
      "  'max_generations': '1000000'  # Automatically stop the experiment after the max number of generations\n",
      "  'save_champion_genotype': 'true'  # Save the best genotype from each generation. Valid values: ['false', 'true']\n",
      "  'fitness_information': 'full_compressed'  # What kind of fitness information to save. Valid values: ['full_compressed', 'full_raw', 'samples_only']\n",
      "  'save_genealogy': 'false'  # Save the genealogy information (can be very large!). Valid values: ['false', 'true']\n",
      "  'profile_information': 'generation_only'  # Performance trace (counters/timings). Valid values: ['all_stages', 'generation_only']\n",
      "}\n",
      "\n"
     ]
    }
   ],
   "source": [
    "# create a new experiment\n",
    "experiment = universe.new_experiment(domain, population)\n",
    "\n",
    "# experiment configuration\n",
    "print(experiment.config)"
   ]
  },
  {
   "cell_type": "code",
   "execution_count": 8,
   "metadata": {},
   "outputs": [
    {
     "name": "stdout",
     "output_type": "stream",
     "text": [
      "{\n",
      "  'mutation_normal_distribution': 'true'  # Use normal (instead of uniform) distribution for mutations. Valid values: ['false', 'true']\n",
      "  'mutation_std_dev': '1'  # Mutation standard deviation. Used if mutation_normal_distribution is true.\n",
      "  'connection_range': '64'  # Initial connection values range\n",
      "  'connection_resolution': '0.01'  # Connection values resolution\n",
      "  'sparse_weights': 'false'  # Generate sparse weights for the initial (random) population. Valid values: ['false', 'true']\n",
      "  'weights_density': '0.2'  # Probability of non-zero weights (if sparse_weights is true)\n",
      "}\n",
      "\n"
     ]
    }
   ],
   "source": [
    "# more configuration, controlling the low level ANN building blocks\n",
    "print(experiment.core_config)"
   ]
  },
  {
   "cell_type": "code",
   "execution_count": 9,
   "metadata": {},
   "outputs": [],
   "source": [
    "# configure experiment\n",
    "experiment.config.save_genealogy = True\n",
    "\n",
    "# configure core ANN libraries\n",
    "experiment.core_config.mutation_std_dev = 2.0\n",
    "experiment.core_config.connection_range = 16\n",
    "experiment.core_config.connection_resolution = 0.5"
   ]
  },
  {
   "cell_type": "code",
   "execution_count": 10,
   "metadata": {},
   "outputs": [
    {
     "name": "stdout",
     "output_type": "stream",
     "text": [
      "Generation 0 ...\n",
      "  best fitness=1.080\n",
      "  median fitness=0.015\n",
      "  worst fitness=0.013\n",
      "\n",
      "Generation 1 ...\n",
      "  best fitness=0.459\n",
      "  median fitness=0.028\n",
      "  worst fitness=0.013\n",
      "\n",
      "Generation 2 ...\n",
      "  best fitness=0.507\n",
      "  median fitness=0.037\n",
      "  worst fitness=0.014\n",
      "\n",
      "Generation 3 ...\n",
      "  best fitness=1.098\n",
      "  median fitness=0.059\n",
      "  worst fitness=0.013\n",
      "\n",
      "Generation 4 ...\n",
      "  best fitness=1.535\n",
      "  median fitness=0.063\n",
      "  worst fitness=0.014\n",
      "\n"
     ]
    }
   ],
   "source": [
    "# basic evolution cycle\n",
    "experiment.initialize_population()\n",
    "for generation in range(5):\n",
    "    print(f'Generation {generation} ...')\n",
    "\n",
    "    summary = experiment.evaluate_population()\n",
    "    print(f'  best fitness={summary.best_fitness:.3f}')\n",
    "    print(f'  median fitness={summary.median_fitness:.3f}')\n",
    "    print(f'  worst fitness={summary.worst_fitness:.3f}')\n",
    "    print()\n",
    "\n",
    "    experiment.create_next_generation()"
   ]
  },
  {
   "cell_type": "code",
   "execution_count": null,
   "metadata": {},
   "outputs": [],
   "source": []
  }
 ],
 "metadata": {
  "kernelspec": {
   "display_name": "Python 3",
   "language": "python",
   "name": "python3"
  },
  "language_info": {
   "codemirror_mode": {
    "name": "ipython",
    "version": 3
   },
   "file_extension": ".py",
   "mimetype": "text/x-python",
   "name": "python",
   "nbconvert_exporter": "python",
   "pygments_lexer": "ipython3",
   "version": "3.8.5"
  }
 },
 "nbformat": 4,
 "nbformat_minor": 4
}
